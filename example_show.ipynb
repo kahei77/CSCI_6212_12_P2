{
 "cells": [
  {
   "cell_type": "markdown",
   "id": "f3059920",
   "metadata": {},
   "source": [
    "## import moudle and algorithm"
   ]
  },
  {
   "cell_type": "code",
   "execution_count": 1,
   "id": "64f69fe2",
   "metadata": {},
   "outputs": [],
   "source": [
    "import random\n",
    "import time\n",
    "def merge_sort_find_optimal(arr):\n",
    "    if len(arr) <= 1:\n",
    "        return arr\n",
    "\n",
    "\n",
    "    middle = len(arr) // 2\n",
    "    left_half = arr[:middle]\n",
    "    right_half = arr[middle:]\n",
    "\n",
    "    left_half = merge_sort_find_optimal(left_half)\n",
    "    right_half = merge_sort_find_optimal(right_half)\n",
    "\n",
    "\n",
    "    return save_optimal(left_half, right_half)\n",
    "\n",
    "def save_optimal(left, right):\n",
    "    merged = []\n",
    "    left_idx, right_idx = 0, 0\n",
    "\n",
    "    while left_idx < len(left) and right_idx < len(right):\n",
    "            # The left list is eligible and has a smaller x-value\n",
    "        if left[left_idx][0] <= right[right_idx][0] and left[left_idx][1] >= right[right_idx][1]:\n",
    "            merged.append(left[left_idx])\n",
    "            left_idx += 1\n",
    "            # The right list is eligible and has a smaller x-value\n",
    "        elif left[left_idx][0] >= right[right_idx][0] and left[left_idx][1] <= right[right_idx][1]:\n",
    "            merged.append(right[right_idx])\n",
    "            right_idx += 1\n",
    "            # The left side is not eligible, skip this element\n",
    "        elif left[left_idx][0] < right[right_idx][0] and left[left_idx][1] < right[right_idx][1]:\n",
    "            left_idx+=1\n",
    "            # The right side is not eligible, skip this element\n",
    "        elif left[left_idx][0] > right[right_idx][0] and left[left_idx][1] > right[right_idx][1]:\n",
    "            right_idx+=1\n",
    "    #Merge the remaining points\n",
    "    merged.extend(left[left_idx:])\n",
    "    merged.extend(right[right_idx:])\n",
    "\n",
    "    return merged\n",
    "\n",
    "def generate_random_points(n):\n",
    "    points = []\n",
    "    for _ in range(n):\n",
    "        x = random.randint(0, 100)  # random x in [0,100]\n",
    "        y = random.randint(0, 100)  # random y in [0,100]\n",
    "        points.append((x, y))\n",
    "    return points"
   ]
  },
  {
   "cell_type": "markdown",
   "id": "975706f4",
   "metadata": {},
   "source": [
    "## run the code with n=50"
   ]
  },
  {
   "cell_type": "code",
   "execution_count": 2,
   "id": "d927c860",
   "metadata": {},
   "outputs": [
    {
     "name": "stdout",
     "output_type": "stream",
     "text": [
      "[(12, 78), (72, 28), (92, 96), (19, 39), (4, 7), (70, 37), (77, 78), (1, 32), (59, 83), (9, 78), (74, 63), (28, 72), (9, 30), (47, 28), (25, 99), (14, 23), (94, 57), (89, 42), (93, 85), (73, 62), (25, 36), (50, 5), (37, 29), (27, 98), (81, 1), (11, 23), (72, 26), (55, 43), (72, 10), (94, 47), (46, 1), (13, 19), (8, 60), (77, 68), (5, 49), (24, 85), (29, 99), (25, 43), (79, 2), (66, 11), (9, 100), (20, 3), (0, 14), (6, 8), (15, 57), (42, 96), (87, 67), (11, 68), (32, 60), (13, 47)]\n",
      "[(9, 100), (25, 99), (29, 99), (42, 96), (92, 96), (93, 85), (94, 57), (94, 47)]\n",
      "running time: 169200 ns\n"
     ]
    }
   ],
   "source": [
    "n = 50 # number of points\n",
    "arr = generate_random_points(n)#generate random points for data normalization\n",
    "start_time = time.perf_counter_ns()\n",
    "sorted_arr = merge_sort_find_optimal(arr)\n",
    "end_time = time.perf_counter_ns()\n",
    "elapsed_time_ns = end_time - start_time\n",
    "print(arr)\n",
    "print(sorted_arr)\n",
    "print(f\"running time: {elapsed_time_ns} ns\")"
   ]
  },
  {
   "cell_type": "markdown",
   "id": "74a1f864",
   "metadata": {},
   "source": [
    "## show point graph"
   ]
  },
  {
   "cell_type": "code",
   "execution_count": 3,
   "id": "12566e26",
   "metadata": {},
   "outputs": [
    {
     "data": {
      "image/png": "[encoded data removed]",
      "text/plain": [
       "<Figure size 432x288 with 1 Axes>"
      ]
     },
     "metadata": {
      "needs_background": "light"
     },
     "output_type": "display_data"
    }
   ],
   "source": [
    "# show stair\n",
    "import matplotlib.pyplot as plt\n",
    "\n",
    "x_arr= [item[0] for item in arr]\n",
    "y_arr= [item[1] for item in arr]\n",
    "x_sorted_arr= [item[0] for item in sorted_arr]\n",
    "y_sorted_arr= [item[1] for item in sorted_arr]\n",
    "\n",
    "plt.plot(x_sorted_arr, y_sorted_arr, marker='o', linestyle='-', color='b', label='stair')\n",
    "plt.scatter(x_arr, y_arr, marker='x', color='r', label='all points')\n",
    "\n",
    "plt.xlabel('X')\n",
    "plt.ylabel('Y')\n",
    "\n",
    "\n",
    "plt.legend()\n",
    "\n",
    "plt.grid(True)\n",
    "plt.show()\n"
   ]
  },
  {
   "cell_type": "code",
   "execution_count": null,
   "id": "7ba01aaf",
   "metadata": {},
   "outputs": [],
   "source": []
  }
 ],
 "metadata": {
  "kernelspec": {
   "display_name": "Python 3 (ipykernel)",
   "language": "python",
   "name": "python3"
  },
  "language_info": {
   "codemirror_mode": {
    "name": "ipython",
    "version": 3
   },
   "file_extension": ".py",
   "mimetype": "text/x-python",
   "name": "python",
   "nbconvert_exporter": "python",
   "pygments_lexer": "ipython3",
   "version": "3.9.7"
  }
 },
 "nbformat": 4,
 "nbformat_minor": 5
}
